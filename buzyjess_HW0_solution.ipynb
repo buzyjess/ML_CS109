{
 "cells": [
  {
   "cell_type": "markdown",
   "metadata": {},
   "source": [
    "# Homework 0"
   ]
  },
  {
   "cell_type": "markdown",
   "metadata": {},
   "source": [
    "## The Monty Hall Problem\n",
    "\n",
    "\n",
    "Here's a fun and perhaps surprising statistical riddle, and a good way to get some practice writing python functions\n",
    "\n",
    "In a gameshow, contestants try to guess which of 3 closed doors contain a cash prize (goats are behind the other two doors). Of course, the odds of choosing the correct door are 1 in 3. As a twist, the host of the show occasionally opens a door after a contestant makes his or her choice. This door is always one of the two the contestant did not pick, and is also always one of the goat doors (note that it is always possible to do this, since there are two goat doors). At this point, the contestant has the option of keeping his or her original choice, or swtiching to the other unopened door. The question is: is there any benefit to switching doors? The answer surprises many people who haven't heard the question before.\n",
    "\n",
    "We can answer the problem by running simulations in Python. We'll do it in several parts.\n",
    "\n",
    "First, write a function called `simulate_prizedoor`. This function will simulate the location of the prize in many games -- see the detailed specification below:"
   ]
  },
  {
   "cell_type": "code",
   "execution_count": 17,
   "metadata": {},
   "outputs": [
    {
     "name": "stdout",
     "output_type": "stream",
     "text": [
      "[0 0 2 ..., 0 0 2]\n"
     ]
    }
   ],
   "source": [
    "\"\"\"\n",
    "Function\n",
    "--------\n",
    "simulate_prizedoor\n",
    "\n",
    "Generate a random array of 0s, 1s, and 2s, representing\n",
    "hiding a prize between door 0, door 1, and door 2\n",
    "\n",
    "Parameters\n",
    "----------\n",
    "nsim : int\n",
    "    The number of simulations to run\n",
    "\n",
    "Returns\n",
    "-------\n",
    "sims : array\n",
    "    Random array of 0s, 1s, and 2s\n",
    "\n",
    "Example\n",
    "-------\n",
    ">>> print simulate_prizedoor(3)\n",
    "array([0, 0, 2])\n",
    "\"\"\"\n",
    "\"\"\"def simulate_prizedoor(nsim):\n",
    "    #compute here\n",
    "    return answer\n",
    "\"\"\"\n",
    "\n",
    "import numpy as np\n",
    "import random as rm \n",
    "\n",
    "##nsim=20000 ## defines the number of simulations\n",
    "##ndoor=6\n",
    "\n",
    "def simulate_prizedoor(nsim):\n",
    "    ##this step returns random numbers from (0,ndoors) and is listed into a list which nsim long\n",
    "    ##sims = np.array([rm.randrange(0, ndoors) for _ in range(0, nsim)])\n",
    "    sims = np.array([rm.randrange(0, 3) for _ in range(0, nsim)])\n",
    "    return sims\n",
    "\n",
    "prizedoors = simulate_prizedoor(nsim)\n",
    "print(prizedoors)\n",
    "\n",
    "#print(np.shape(simulate_prizedoor(nsim)))\n",
    "\n"
   ]
  },
  {
   "cell_type": "markdown",
   "metadata": {},
   "source": [
    "Next, write a function that simulates the contestant's guesses for `nsim` simulations. Call this function `simulate_guess`. The specs:"
   ]
  },
  {
   "cell_type": "code",
   "execution_count": 18,
   "metadata": {},
   "outputs": [
    {
     "name": "stdout",
     "output_type": "stream",
     "text": [
      "[2 1 1 ..., 2 1 1]\n"
     ]
    }
   ],
   "source": [
    "\"\"\"\n",
    "Function\n",
    "--------\n",
    "simulate_guess\n",
    "\n",
    "Return any strategy for guessing which door a prize is behind. This\n",
    "could be a random strategy, one that always guesses 2, whatever.\n",
    "\n",
    "Parameters\n",
    "----------\n",
    "nsim : int\n",
    "    The number of simulations to generate guesses for\n",
    "\n",
    "Returns\n",
    "-------\n",
    "guesses : array\n",
    "    An array of guesses. Each guess is a 0, 1, or 2\n",
    "\n",
    "Example\n",
    "-------\n",
    ">>> print simulate_guess(5)\n",
    "array([0, 0, 0, 0, 0])\n",
    "\"\"\"\n",
    "\n",
    "def simulate_guess(nsim):\n",
    "    ##this step returns random numbers from (0,ndoors) and is listed into a list which nsim long\n",
    "    sims = np.array([rm.randrange(0, 3) for _ in range(0, nsim)])\n",
    "    return sims\n",
    "\n",
    "guess = simulate_guess(nsim)\n",
    "print(guess)"
   ]
  },
  {
   "cell_type": "markdown",
   "metadata": {},
   "source": [
    "Next, write a function, `goat_door`, to simulate randomly revealing one of the goat doors that a contestant didn't pick."
   ]
  },
  {
   "cell_type": "code",
   "execution_count": 19,
   "metadata": {},
   "outputs": [
    {
     "name": "stdout",
     "output_type": "stream",
     "text": [
      "[0 0 2 ..., 0 0 2]\n",
      "[2 1 1 ..., 2 1 1]\n",
      "goat doors\n",
      "[1 2 0 ..., 1 2 0]\n"
     ]
    }
   ],
   "source": [
    "\"\"\"\n",
    "Function\n",
    "--------\n",
    "goat_door\n",
    "\n",
    "Simulate the opening of a \"goat door\" that doesn't contain the prize,\n",
    "and is different from the contestants guess\n",
    "\n",
    "Parameters\n",
    "----------\n",
    "prizedoors : array\n",
    "    The door that the prize is behind in each simulation\n",
    "guesses : array\n",
    "    THe door that the contestant guessed in each simulation\n",
    "\n",
    "Returns\n",
    "-------\n",
    "goats : array\n",
    "    The goat door that is opened for each simulation. Each item is 0, 1, or 2, and is different\n",
    "    from both prizedoors and guesses\n",
    "\n",
    "Examples\n",
    "--------\n",
    ">>> print goat_door(np.array([0, 1, 2]), np.array([1, 1, 1]))\n",
    ">>> array([2, 2, 0])\n",
    "\"\"\"\n",
    "#your code here\n",
    "print(prizedoors)\n",
    "print(guess)\n",
    "def goat_door(prizedoors,guess) :\n",
    "    prize_guess_combined = np.stack((prizedoors,guess),axis = -1)\n",
    "    #print(prize_guess_combined[0])\n",
    "    ##list of all the available doors \n",
    "    #avlble_doors = np.array(range(0,ndoor))\n",
    "    avlble_doors = np.array(range(0,3))\n",
    "    ##print(avlble_doors)\n",
    "    #print(list(set(prize_guess_combined[0])))\n",
    "    op_arr = np.array([],dtype=np.int32)\n",
    "\n",
    "    for ar in prize_guess_combined : \n",
    "        op_arr= np.append(op_arr,(rm.sample(set(avlble_doors[np.in1d(avlble_doors,list(set(ar)),invert=True )]),1)))\n",
    "    \n",
    "    return op_arr\n",
    "\n",
    "goatdoors=goat_door(prizedoors,guess)\n",
    "print (\"goat doors\" ) ; print(goatdoors)"
   ]
  },
  {
   "cell_type": "markdown",
   "metadata": {},
   "source": [
    "Write a function, `switch_guess`, that represents the strategy of always switching a guess after the goat door is opened."
   ]
  },
  {
   "cell_type": "code",
   "execution_count": 20,
   "metadata": {},
   "outputs": [
    {
     "name": "stdout",
     "output_type": "stream",
     "text": [
      "goat doors \n",
      "[1 2 0 ..., 1 2 0]\n",
      "guess \n",
      "[2 1 1 ..., 2 1 1]\n",
      "switch guess \n",
      "[0 0 2 ..., 0 0 2]\n",
      "prize doors\n",
      "[0 0 2 ..., 0 0 2]\n"
     ]
    }
   ],
   "source": [
    "\"\"\"\n",
    "Function\n",
    "--------\n",
    "switch_guess\n",
    "\n",
    "The strategy that always switches a guess after the goat door is opened\n",
    "\n",
    "Parameters\n",
    "----------\n",
    "guesses : array\n",
    "     Array of original guesses, for each simulation\n",
    "goatdoors : array\n",
    "     Array of revealed goat doors for each simulation\n",
    "\n",
    "Returns\n",
    "-------\n",
    "The new door after switching. Should be different from both guesses and goatdoors\n",
    "\n",
    "Examples\n",
    "--------\n",
    ">>> print switch_guess(np.array([0, 1, 2]), np.array([1, 2, 1]))\n",
    ">>> array([2, 0, 0])\n",
    "\n",
    "\"\"\"\n",
    "#your code here\n",
    "print(\"goat doors \"); print(goatdoors)\n",
    "print(\"guess \");print(guess)\n",
    "\n",
    "def switch_guess(goatdoors,guess) :\n",
    "    goatdoors_guess_combined = np.stack((goatdoors,guess),axis = -1)\n",
    "\n",
    "    #print(goatdoors_guess_combined)\n",
    "    \n",
    "    ##list of all the available doors \n",
    "    #avlble_doors = np.array(range(0,ndoor))\n",
    "    avlble_doors = np.array(range(0,3))\n",
    "    #print(avlble_doors)\n",
    "    #print(list(set(goatdoors_guess_combined[0])))\n",
    "    oput_arr = np.array([],dtype=np.int32)\n",
    "\n",
    "    for comb_arr in goatdoors_guess_combined : \n",
    "        oput_arr= np.append(oput_arr,(rm.sample(set(avlble_doors[np.in1d(avlble_doors,list(set(comb_arr)),invert=True )]),1)))\n",
    "    \n",
    "    return oput_arr\n",
    "\n",
    "switchguess=switch_guess(goatdoors,guess)\n",
    "print(\"switch guess \")\n",
    "print(switchguess)\n",
    "print(\"prize doors\"); print(prizedoors)\n",
    "\n",
    "\n"
   ]
  },
  {
   "cell_type": "markdown",
   "metadata": {},
   "source": [
    "Last function: write a `win_percentage` function that takes an array of `guesses` and `prizedoors`, and returns the percent of correct guesses"
   ]
  },
  {
   "cell_type": "code",
   "execution_count": 23,
   "metadata": {},
   "outputs": [
    {
     "name": "stdout",
     "output_type": "stream",
     "text": [
      "33.545\n"
     ]
    }
   ],
   "source": [
    "\"\"\"\n",
    "Function\n",
    "--------\n",
    "win_percentage\n",
    "\n",
    "Calculate the percent of times that a simulation of guesses is correct\n",
    "\n",
    "Parameters\n",
    "-----------\n",
    "guesses : array\n",
    "    Guesses for each simulation\n",
    "prizedoors : array\n",
    "    Location of prize for each simulation\n",
    "\n",
    "Returns\n",
    "--------\n",
    "percentage : number between 0 and 100\n",
    "    The win percentage\n",
    "\n",
    "Examples\n",
    "---------\n",
    ">>> print win_percentage(np.array([0, 1, 2]), np.array([0, 0, 0]))\n",
    "33.333\n",
    "\"\"\"\n",
    "#your code here\n",
    "\n",
    "#def win_percentage(prizedoors,guess) :\n",
    "def win_percentage(prizedoors,guess):\n",
    "    return ((np.sum([prizedoors == guess]))/nsim)*100\n",
    "\n"
   ]
  },
  {
   "cell_type": "markdown",
   "metadata": {},
   "source": [
    "Now, put it together. Simulate 10000 games where contestant keeps his original guess, and 10000 games where the contestant switches his door after a  goat door is revealed. Compute the percentage of time the contestant wins under either strategy. Is one strategy better than the other?"
   ]
  },
  {
   "cell_type": "code",
   "execution_count": 42,
   "metadata": {},
   "outputs": [
    {
     "name": "stdout",
     "output_type": "stream",
     "text": [
      "Win chances when keeping guess\n",
      "33.25%\n",
      "Win chances when switching guess\n",
      "66.42%\n"
     ]
    }
   ],
   "source": [
    "\n",
    "nsim = 10000\n",
    "\n",
    "#keep guesses\n",
    "print(\"Win chances when keeping guess\")\n",
    "print(str(win_percentage(simulate_prizedoor(nsim), simulate_guess(nsim))) +\"%\")\n",
    "\n",
    "\n",
    "#switch scenario\n",
    "switch_prize_door = simulate_prizedoor(nsim)\n",
    "switch_guess_sim = simulate_guess(nsim)\n",
    "goatsdoors = goat_door(switch_prize_door, switch_guess_sim)\n",
    "guess = switch_guess(switch_guess_sim, goatsdoors)\n",
    "print(\"Win chances when switching guess\")\n",
    "print(str(win_percentage(switch_prize_door, guess))+\"%\")"
   ]
  },
  {
   "cell_type": "markdown",
   "metadata": {},
   "source": [
    "Many people find this answer counter-intuitive (famously, PhD mathematicians have incorrectly claimed the result must be wrong. Clearly, none of them knew Python). \n",
    "\n",
    "One of the best ways to build intuition about why opening a Goat door affects the odds is to re-run the experiment with 100 doors and one prize. If the game show host opens 98 goat doors after you make your initial selection, would you want to keep your first pick or switch? Can you generalize your simulation code to handle the case of `n` doors?"
   ]
  }
 ],
 "metadata": {
  "kernelspec": {
   "display_name": "Python 3",
   "language": "python",
   "name": "python3"
  },
  "language_info": {
   "codemirror_mode": {
    "name": "ipython",
    "version": 3
   },
   "file_extension": ".py",
   "mimetype": "text/x-python",
   "name": "python",
   "nbconvert_exporter": "python",
   "pygments_lexer": "ipython3",
   "version": "3.6.1"
  }
 },
 "nbformat": 4,
 "nbformat_minor": 1
}
